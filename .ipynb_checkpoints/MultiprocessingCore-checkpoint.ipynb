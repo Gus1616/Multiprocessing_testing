{
 "cells": [
  {
   "cell_type": "markdown",
   "metadata": {},
   "source": [
    "# Multiprocessing using Pools \n",
    "A simple framework for assessing the impact of multiprocessing on runtime on a multi-core machine. "
   ]
  },
  {
   "cell_type": "markdown",
   "metadata": {},
   "source": [
    "## 17350796"
   ]
  },
  {
   "cell_type": "code",
   "execution_count": 1,
   "metadata": {},
   "outputs": [
    {
     "name": "stdout",
     "output_type": "stream",
     "text": [
      "33\n"
     ]
    }
   ],
   "source": [
    "import time\n",
    "import math\n",
    "import multiprocessing\n",
    "from multiprocessing import Pool\n",
    "\n",
    "import psutil\n",
    "import platform\n",
    "\n",
    "\n",
    "\n",
    "from matplotlib import pyplot as plt\n",
    "\n",
    "\n",
    "from function import my_func, my_func_verbose\n",
    "\n",
    "# A function for timing a job that uses a pool of processes.\n",
    "#  f is a function that takes a single argument\n",
    "#  data is an array of arguments on which f will be mapped\n",
    "#  pool_size is the number of processes in the pool. \n",
    "def pool_process(f, data, pool_size):\n",
    "    tp1 = time.time()\n",
    "    pool = Pool(processes=pool_size) # initialize the Pool.\n",
    "    result = pool.map(f, data)       # map f to the data using the Pool of processes to do the work \n",
    "    pool.close() # No more processes\n",
    "    pool.join()  # Wait for the pool processing to complete.\n",
    "    timeResult = int(time.time()-tp1)\n",
    "    return timeResult\n",
    "    \n",
    "#     print(\"Results\", result)\n",
    "    \n",
    "#     print(\"Overall Time:\", int(time.time()-tp1))\n",
    " "
   ]
  },
  {
   "cell_type": "markdown",
   "metadata": {},
   "source": [
    "#### Type of Computer I am running the notebook on:"
   ]
  },
  {
   "cell_type": "code",
   "execution_count": 2,
   "metadata": {},
   "outputs": [
    {
     "data": {
      "text/plain": [
       "'Intel64 Family 6 Model 142 Stepping 9, GenuineIntel'"
      ]
     },
     "execution_count": 2,
     "metadata": {},
     "output_type": "execute_result"
    }
   ],
   "source": [
    "platform.processor()"
   ]
  },
  {
   "cell_type": "markdown",
   "metadata": {},
   "source": [
    "#### Checking the number of logical CPUs: \n",
    "\n",
    "- Indicates how many cores the operating system can see and address"
   ]
  },
  {
   "cell_type": "code",
   "execution_count": 72,
   "metadata": {},
   "outputs": [
    {
     "data": {
      "text/plain": [
       "4"
      ]
     },
     "execution_count": 72,
     "metadata": {},
     "output_type": "execute_result"
    }
   ],
   "source": [
    "multiprocessing.cpu_count()\n"
   ]
  },
  {
   "cell_type": "markdown",
   "metadata": {},
   "source": [
    "#### Number of usable CPUs:"
   ]
  },
  {
   "cell_type": "code",
   "execution_count": 76,
   "metadata": {},
   "outputs": [
    {
     "data": {
      "text/plain": [
       "4"
      ]
     },
     "execution_count": 76,
     "metadata": {},
     "output_type": "execute_result"
    }
   ],
   "source": [
    "len(psutil.Process().cpu_affinity())\n"
   ]
  },
  {
   "cell_type": "markdown",
   "metadata": {},
   "source": [
    "#### Checking the number of physical CPUs:\n",
    "- The reason the system indicates that it has less physical cores is that it might implement hyperthreading\n",
    "- This hyperthreading technology developed by Intel improves CPU throughput by allowing more than one thread to run on a core.  \n",
    "\n",
    "\n",
    "Ref: https://psutil.readthedocs.io/en/latest/#psutil.cpu_count"
   ]
  },
  {
   "cell_type": "code",
   "execution_count": 77,
   "metadata": {},
   "outputs": [
    {
     "data": {
      "text/plain": [
       "2"
      ]
     },
     "execution_count": 77,
     "metadata": {},
     "output_type": "execute_result"
    }
   ],
   "source": [
    "psutil.cpu_count(logical = False)\n"
   ]
  },
  {
   "cell_type": "code",
   "execution_count": 5,
   "metadata": {},
   "outputs": [],
   "source": [
    "# def my_func(x):\n",
    "#     s = math.sqrt(x)\n",
    "#     return s"
   ]
  },
  {
   "cell_type": "code",
   "execution_count": 6,
   "metadata": {},
   "outputs": [],
   "source": [
    "# This verbose version shows which process in the pool is running each task. \n",
    "# def my_func_verbose(x):\n",
    "#     s = math.sqrt(x)\n",
    "#     print(\"Task\", multiprocessing.current_process(), x, s)\n",
    "#     return s"
   ]
  },
  {
   "cell_type": "code",
   "execution_count": 7,
   "metadata": {},
   "outputs": [],
   "source": [
    "dataRange = range(20)"
   ]
  },
  {
   "cell_type": "markdown",
   "metadata": {},
   "source": [
    "Use the pool_process function to apply my_func to the data in dataRange.  \n",
    "This task is so light it requires very little processing time. "
   ]
  },
  {
   "cell_type": "code",
   "execution_count": 8,
   "metadata": {},
   "outputs": [
    {
     "data": {
      "text/plain": [
       "0"
      ]
     },
     "execution_count": 8,
     "metadata": {},
     "output_type": "execute_result"
    }
   ],
   "source": [
    "pool_process(my_func, dataRange, 2)"
   ]
  },
  {
   "cell_type": "markdown",
   "metadata": {},
   "source": [
    "## A naive function for checking primes "
   ]
  },
  {
   "cell_type": "code",
   "execution_count": 9,
   "metadata": {},
   "outputs": [],
   "source": [
    "from function import check_prime\n"
   ]
  },
  {
   "cell_type": "code",
   "execution_count": 10,
   "metadata": {},
   "outputs": [],
   "source": [
    "# def check_prime(num):\n",
    "#     t1 = time.time()\n",
    "#     res = False\n",
    "#     if num > 0:\n",
    "#         # check for factors\n",
    "#         for i in range(2,num):\n",
    "#             if (num % i) == 0:\n",
    "#                 print(num,\"is not a prime number\")\n",
    "#                 print(i,\"times\",num//i,\"is\",num)\n",
    "#                 print(\"Time:\", int(time.time()-t1))\n",
    "#                 break\n",
    "#         else:\n",
    "#             print(num,\"is a prime number\")\n",
    "#             print(\"Time:\", time.time()-t1) \n",
    "#             res = True\n",
    "#             # if input number is less than\n",
    "#             # or equal to 1, it is not prime\n",
    "#     return res\n"
   ]
  },
  {
   "cell_type": "code",
   "execution_count": 11,
   "metadata": {},
   "outputs": [
    {
     "name": "stdout",
     "output_type": "stream",
     "text": [
      "15488801 is a prime number\n",
      "Time: 2.2155470848083496\n"
     ]
    },
    {
     "data": {
      "text/plain": [
       "True"
      ]
     },
     "execution_count": 11,
     "metadata": {},
     "output_type": "execute_result"
    }
   ],
   "source": [
    "check_prime(15488801)"
   ]
  },
  {
   "cell_type": "code",
   "execution_count": 12,
   "metadata": {},
   "outputs": [
    {
     "name": "stdout",
     "output_type": "stream",
     "text": [
      "15488803 is not a prime number\n",
      "11 times 1408073 is 15488803\n",
      "Time: 0\n"
     ]
    },
    {
     "data": {
      "text/plain": [
       "False"
      ]
     },
     "execution_count": 12,
     "metadata": {},
     "output_type": "execute_result"
    }
   ],
   "source": [
    "check_prime(15488803)"
   ]
  },
  {
   "cell_type": "markdown",
   "metadata": {},
   "source": [
    "# Task 1"
   ]
  },
  {
   "cell_type": "markdown",
   "metadata": {},
   "source": [
    "### Generating sets of work to be processed by the pool. \n",
    "- The speedup will be quantified by using an increasing amount of cores:"
   ]
  },
  {
   "cell_type": "markdown",
   "metadata": {},
   "source": [
    "### With 2 prime numbers:"
   ]
  },
  {
   "cell_type": "code",
   "execution_count": 13,
   "metadata": {},
   "outputs": [],
   "source": [
    "\n",
    "time_list_twoPrime = []\n",
    "\n",
    "\n",
    "data = [12281671, 12281693]\n",
    "oneCore_2 = pool_process(check_prime, data, 1)\n",
    "time_list_twoPrime.append(oneCore_2)\n",
    "\n"
   ]
  },
  {
   "cell_type": "code",
   "execution_count": 14,
   "metadata": {},
   "outputs": [],
   "source": [
    "data = [12281671, 12281693]\n",
    "twoCore_2=pool_process(check_prime, data, 2)\n",
    "time_list_twoPrime.append(twoCore_2)\n"
   ]
  },
  {
   "cell_type": "code",
   "execution_count": 15,
   "metadata": {},
   "outputs": [],
   "source": [
    "data = [12281671, 12281693]\n",
    "threeCore_2 =pool_process(check_prime, data, 3)\n",
    "time_list_twoPrime.append(threeCore_2)\n"
   ]
  },
  {
   "cell_type": "code",
   "execution_count": 16,
   "metadata": {},
   "outputs": [],
   "source": [
    "data = [12281671, 12281693]\n",
    "fourCore_2= pool_process(check_prime, data, 4)\n",
    "time_list_twoPrime.append(fourCore_2)\n"
   ]
  },
  {
   "cell_type": "markdown",
   "metadata": {},
   "source": [
    "### With 4 prime numbers"
   ]
  },
  {
   "cell_type": "code",
   "execution_count": 17,
   "metadata": {},
   "outputs": [],
   "source": [
    "time_list_fourPrime = []\n",
    "\n",
    "\n",
    "data = [12281671, 12281693, 12281707, 12281713]\n",
    "oneCore_4= pool_process(check_prime, data, 1)\n",
    "time_list_fourPrime.append(oneCore_4)\n"
   ]
  },
  {
   "cell_type": "code",
   "execution_count": 18,
   "metadata": {},
   "outputs": [],
   "source": [
    "data = [12281671, 12281693, 12281707, 12281713]\n",
    "twoCore_4=pool_process(check_prime, data, 2)\n",
    "time_list_fourPrime.append(twoCore_4)"
   ]
  },
  {
   "cell_type": "code",
   "execution_count": 19,
   "metadata": {},
   "outputs": [],
   "source": [
    "data = [12281671, 12281693, 12281707, 12281713]\n",
    "threeCore_4= pool_process(check_prime, data, 3)\n",
    "time_list_fourPrime.append(threeCore_4)"
   ]
  },
  {
   "cell_type": "code",
   "execution_count": 20,
   "metadata": {},
   "outputs": [],
   "source": [
    "data = [12281671, 12281693, 12281707, 12281713]\n",
    "fourCore_4=pool_process(check_prime, data, 4)\n",
    "time_list_fourPrime.append(fourCore_4)"
   ]
  },
  {
   "cell_type": "markdown",
   "metadata": {},
   "source": [
    "### With 8 prime numbers:"
   ]
  },
  {
   "cell_type": "code",
   "execution_count": 21,
   "metadata": {},
   "outputs": [],
   "source": [
    "time_list_EightPrime = []\n",
    "\n",
    "data = [12281671,12281693,12281707,12281713,12281719,12281729,12281767,12281813]\n",
    "oneCore_8=pool_process(check_prime, data, 1)\n",
    "time_list_EightPrime.append(oneCore_8)"
   ]
  },
  {
   "cell_type": "code",
   "execution_count": 22,
   "metadata": {},
   "outputs": [],
   "source": [
    "data = [12281671,12281693,12281707,12281713,12281719,12281729,12281767,12281813]\n",
    "twoCore_8=pool_process(check_prime, data, 2)\n",
    "time_list_EightPrime.append(twoCore_8)"
   ]
  },
  {
   "cell_type": "code",
   "execution_count": 23,
   "metadata": {},
   "outputs": [],
   "source": [
    "data = [12281671,12281693,12281707,12281713,12281719,12281729,12281767,12281813 ]\n",
    "threeCore_8=pool_process(check_prime, data, 3)\n",
    "time_list_EightPrime.append(threeCore_8)\n"
   ]
  },
  {
   "cell_type": "code",
   "execution_count": 24,
   "metadata": {},
   "outputs": [],
   "source": [
    "data = [12281671,12281693,12281707,12281713,12281719,12281729,12281767,12281813 ]\n",
    "fourCore_8=pool_process(check_prime, data, 4)\n",
    "time_list_EightPrime.append(fourCore_8)"
   ]
  },
  {
   "cell_type": "markdown",
   "metadata": {},
   "source": [
    "### With 16 prime numbers:"
   ]
  },
  {
   "cell_type": "code",
   "execution_count": 25,
   "metadata": {},
   "outputs": [],
   "source": [
    "time_list_SixteenPrime = []\n",
    "\n",
    "data = [12281671, 12281693, 12281707, 12281713, 12281719, 12281729, 12281767, 12281813, 12281827, 12281831, 12281881, 12281909, 12281947, 12281963, 12281981, 12281987]\n",
    "\n",
    "oneCore_16=pool_process(check_prime, data, 1)\n",
    "time_list_SixteenPrime.append(oneCore_16)"
   ]
  },
  {
   "cell_type": "code",
   "execution_count": 26,
   "metadata": {},
   "outputs": [],
   "source": [
    "data = [12281671, 12281693, 12281707, 12281713, 12281719, 12281729, 12281767, 12281813, 12281827, 12281831, 12281881, 12281909, 12281947, 12281963, 12281981, 12281987]\n",
    "twoCore_16=pool_process(check_prime, data, 2)\n",
    "time_list_SixteenPrime.append(twoCore_16)"
   ]
  },
  {
   "cell_type": "code",
   "execution_count": 27,
   "metadata": {},
   "outputs": [],
   "source": [
    "data = [12281671, 12281693, 12281707, 12281713, 12281719, 12281729, 12281767, 12281813, 12281827, 12281831, 12281881, 12281909, 12281947, 12281963, 12281981, 12281987]\n",
    "threeCore_16=pool_process(check_prime, data, 3)\n",
    "time_list_SixteenPrime.append(threeCore_16)"
   ]
  },
  {
   "cell_type": "code",
   "execution_count": 28,
   "metadata": {},
   "outputs": [],
   "source": [
    "data = [12281671, 12281693, 12281707, 12281713, 12281719, 12281729, 12281767, 12281813, 12281827, 12281831, 12281881, 12281909, 12281947, 12281963, 12281981, 12281987]\n",
    "fourCore_16=pool_process(check_prime, data, 4)\n",
    "time_list_SixteenPrime.append(fourCore_16)"
   ]
  },
  {
   "cell_type": "markdown",
   "metadata": {},
   "source": [
    "### Plotting result of Prime number check on graph"
   ]
  },
  {
   "cell_type": "code",
   "execution_count": 29,
   "metadata": {},
   "outputs": [
    {
     "data": {
      "image/png": "[encoded data removed]",
      "text/plain": [
       "<Figure size 432x288 with 1 Axes>"
      ]
     },
     "metadata": {
      "needs_background": "light"
     },
     "output_type": "display_data"
    }
   ],
   "source": [
    "number_cores= [1,2,3,4]\n",
    "\n",
    "\n",
    "\n",
    "plt.xlabel('Pool Size')\n",
    "plt.ylabel('Time Taken')\n",
    "plt.plot(number_cores,time_list_twoPrime, label ='2 Prime Numbers')\n",
    "plt.plot(number_cores, time_list_fourPrime, label ='4 Prime Numbers')\n",
    "plt.plot(number_cores, time_list_EightPrime, label ='8 Prime Numbers')\n",
    "plt.plot(number_cores, time_list_SixteenPrime, label ='16 Prime Numbers')\n",
    "\n",
    "plt.grid()\n",
    "plt.legend()\n",
    "plt.savefig(\"GraphofMultiprocessing\")\n",
    "plt.show()"
   ]
  },
  {
   "cell_type": "code",
   "execution_count": 30,
   "metadata": {},
   "outputs": [
    {
     "data": {
      "text/plain": [
       "[[3, 2, 2, 2], [6, 3, 4, 3], [12, 7, 9, 6], [24, 15, 13, 12]]"
      ]
     },
     "execution_count": 30,
     "metadata": {},
     "output_type": "execute_result"
    }
   ],
   "source": [
    "TimesResult =[]\n",
    "\n",
    "TimesResult.append(time_list_twoPrime)\n",
    "TimesResult.append(time_list_fourPrime)\n",
    "TimesResult.append(time_list_EightPrime)\n",
    "TimesResult.append(time_list_SixteenPrime)\n",
    "\n",
    "TimesResult\n"
   ]
  },
  {
   "cell_type": "markdown",
   "metadata": {},
   "source": [
    "### Bar chart looking at testing with 16 prime numbers"
   ]
  },
  {
   "cell_type": "code",
   "execution_count": 31,
   "metadata": {},
   "outputs": [
    {
     "data": {
      "image/png": "[encoded data removed]",
      "text/plain": [
       "<Figure size 432x288 with 1 Axes>"
      ]
     },
     "metadata": {
      "needs_background": "light"
     },
     "output_type": "display_data"
    }
   ],
   "source": [
    "fig = plt.figure()\n",
    "ax = fig.add_axes([0,0,1,1])\n",
    "ax.bar(number_cores,time_list_SixteenPrime)\n",
    "fig.savefig('BarChart.png')\n",
    "\n",
    "plt.show()"
   ]
  },
  {
   "cell_type": "markdown",
   "metadata": {},
   "source": [
    "### Task 2\n",
    "- An alternative processing task that will also test the CPU and the assessment is repeated.\n",
    "- I have decided to implement a factorial summing algorithm as I tried to pick more of a serial algorithm.\n",
    "- Meaning that it is implemented sequentially. As in the algorithm has to run once through, from start to finish, without other processing executing. As opposed to a parallel algorithm which can do multiple operations at the same time."
   ]
  },
  {
   "cell_type": "code",
   "execution_count": 59,
   "metadata": {},
   "outputs": [],
   "source": [
    "from function import sumFactorial\n"
   ]
  },
  {
   "cell_type": "code",
   "execution_count": 60,
   "metadata": {},
   "outputs": [
    {
     "data": {
      "text/plain": [
       "33"
      ]
     },
     "execution_count": 60,
     "metadata": {},
     "output_type": "execute_result"
    }
   ],
   "source": [
    "sumFactorial(4)"
   ]
  },
  {
   "cell_type": "code",
   "execution_count": 66,
   "metadata": {},
   "outputs": [
    {
     "data": {
      "text/plain": [
       "6"
      ]
     },
     "execution_count": 66,
     "metadata": {},
     "output_type": "execute_result"
    }
   ],
   "source": [
    "dataSearch = [500, 1000, 1500, 2000, 2500, 3000]\n",
    "time_list_factorial=[]\n",
    "oneCore_factorial=pool_process(sumFactorial, dataSearch, 1)\n",
    "time_list_factorial.append(oneCore_factorial)\n",
    "pool_process(sumFactorial, dataSearch, 1)"
   ]
  },
  {
   "cell_type": "code",
   "execution_count": 67,
   "metadata": {},
   "outputs": [
    {
     "data": {
      "text/plain": [
       "4"
      ]
     },
     "execution_count": 67,
     "metadata": {},
     "output_type": "execute_result"
    }
   ],
   "source": [
    "dataSearch = [500, 1000, 1500, 2000, 2500, 3000]\n",
    "twoCore_factorial=pool_process(sumFactorial, dataSearch, 2)\n",
    "time_list_factorial.append(twoCore_factorial)\n",
    "pool_process(sumFactorial, dataSearch, 2)"
   ]
  },
  {
   "cell_type": "code",
   "execution_count": 68,
   "metadata": {},
   "outputs": [
    {
     "data": {
      "text/plain": [
       "4"
      ]
     },
     "execution_count": 68,
     "metadata": {},
     "output_type": "execute_result"
    }
   ],
   "source": [
    "dataSearch = [500, 1000, 1500, 2000, 2500, 3000]\n",
    "threeCore_factorial=pool_process(sumFactorial, dataSearch, 3)\n",
    "time_list_factorial.append(threeCore_factorial)\n",
    "pool_process(sumFactorial, dataSearch, 3)"
   ]
  },
  {
   "cell_type": "code",
   "execution_count": 69,
   "metadata": {},
   "outputs": [
    {
     "data": {
      "text/plain": [
       "4"
      ]
     },
     "execution_count": 69,
     "metadata": {},
     "output_type": "execute_result"
    }
   ],
   "source": [
    "dataSearch = [500, 1000, 1500, 2000, 2500, 3000]\n",
    "fourCore_factorial=pool_process(sumFactorial, dataSearch, 4)\n",
    "time_list_factorial.append(fourCore_factorial)\n",
    "pool_process(sumFactorial, dataSearch, 4)"
   ]
  },
  {
   "cell_type": "code",
   "execution_count": 70,
   "metadata": {},
   "outputs": [
    {
     "data": {
      "image/png": "[encoded data removed]",
      "text/plain": [
       "<Figure size 432x288 with 1 Axes>"
      ]
     },
     "metadata": {
      "needs_background": "light"
     },
     "output_type": "display_data"
    }
   ],
   "source": [
    "number_cores= [1,2,3,4]\n",
    "\n",
    "\n",
    "\n",
    "plt.xlabel('Pool Size')\n",
    "plt.ylabel('Time Taken')\n",
    "plt.plot(number_cores,time_list_factorial, label ='Factorial Summing')\n",
    "# plt.plot(number_cores, time_list_factorial2, label ='2 Core')\n",
    "# plt.plot(number_cores, time_list_factorial3, label ='3 core')\n",
    "# plt.plot(number_cores, time_list_factorial4, label ='4 core')\n",
    "\n",
    "plt.grid()\n",
    "plt.legend()\n",
    "plt.savefig(\"GraphofFactorialSumming\")\n",
    "plt.show()"
   ]
  },
  {
   "cell_type": "code",
   "execution_count": 71,
   "metadata": {},
   "outputs": [
    {
     "data": {
      "image/png": "[encoded data removed]",
      "text/plain": [
       "<Figure size 432x288 with 1 Axes>"
      ]
     },
     "metadata": {
      "needs_background": "light"
     },
     "output_type": "display_data"
    }
   ],
   "source": [
    "fig = plt.figure()\n",
    "ax = fig.add_axes([0,0,1,1])\n",
    "ax.bar(number_cores,time_list_factorial)\n",
    "fig.savefig('BarChart_factorial.png')\n",
    "\n",
    "plt.show()"
   ]
  },
  {
   "cell_type": "code",
   "execution_count": null,
   "metadata": {},
   "outputs": [],
   "source": []
  }
 ],
 "metadata": {
  "kernelspec": {
   "display_name": "Python 3",
   "language": "python",
   "name": "python3"
  },
  "language_info": {
   "codemirror_mode": {
    "name": "ipython",
    "version": 3
   },
   "file_extension": ".py",
   "mimetype": "text/x-python",
   "name": "python",
   "nbconvert_exporter": "python",
   "pygments_lexer": "ipython3",
   "version": "3.8.8"
  }
 },
 "nbformat": 4,
 "nbformat_minor": 1
}
