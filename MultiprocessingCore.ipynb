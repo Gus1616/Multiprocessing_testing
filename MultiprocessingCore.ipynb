{
 "cells": [
  {
   "cell_type": "markdown",
   "metadata": {},
   "source": [
    "# Multiprocessing using Pools \n",
    "A simple framework for assessing the impact of multiprocessing on runtime on a multi-core machine. "
   ]
  },
  {
   "cell_type": "code",
   "execution_count": 49,
   "metadata": {},
   "outputs": [],
   "source": [
    "import time\n",
    "import math\n",
    "import multiprocessing\n",
    "from multiprocessing import Pool\n",
    "\n",
    "import psutil\n",
    "\n",
    "\n",
    "from matplotlib import pyplot as plt\n",
    "\n",
    "\n",
    "from function import my_func, my_func_verbose\n",
    "\n",
    "# A function for timing a job that uses a pool of processes.\n",
    "#  f is a function that takes a single argument\n",
    "#  data is an array of arguments on which f will be mapped\n",
    "#  pool_size is the number of processes in the pool. \n",
    "def pool_process(f, data, pool_size):\n",
    "    tp1 = time.time()\n",
    "    pool = Pool(processes=pool_size) # initialize the Pool.\n",
    "    result = pool.map(f, data)       # map f to the data using the Pool of processes to do the work \n",
    "    pool.close() # No more processes\n",
    "    pool.join()  # Wait for the pool processing to complete. \n",
    "    print(\"Results\", result)\n",
    "    \n",
    "    print(\"Overall Time:\", int(time.time()-tp1))\n",
    " "
   ]
  },
  {
   "cell_type": "markdown",
   "metadata": {},
   "source": [
    "#### Checking the number of logical CPUs: "
   ]
  },
  {
   "cell_type": "code",
   "execution_count": 39,
   "metadata": {},
   "outputs": [
    {
     "data": {
      "text/plain": [
       "4"
      ]
     },
     "execution_count": 39,
     "metadata": {},
     "output_type": "execute_result"
    }
   ],
   "source": [
    "multiprocessing.cpu_count()\n"
   ]
  },
  {
   "cell_type": "markdown",
   "metadata": {},
   "source": [
    "#### Checking the number of physical CPUs:"
   ]
  },
  {
   "cell_type": "code",
   "execution_count": 40,
   "metadata": {},
   "outputs": [
    {
     "data": {
      "text/plain": [
       "2"
      ]
     },
     "execution_count": 40,
     "metadata": {},
     "output_type": "execute_result"
    }
   ],
   "source": [
    "psutil.cpu_count(logical = False)\n"
   ]
  },
  {
   "cell_type": "code",
   "execution_count": 41,
   "metadata": {},
   "outputs": [],
   "source": [
    "# def my_func(x):\n",
    "#     s = math.sqrt(x)\n",
    "#     return s"
   ]
  },
  {
   "cell_type": "code",
   "execution_count": 42,
   "metadata": {},
   "outputs": [],
   "source": [
    "# This verbose version shows which process in the pool is running each task. \n",
    "# def my_func_verbose(x):\n",
    "#     s = math.sqrt(x)\n",
    "#     print(\"Task\", multiprocessing.current_process(), x, s)\n",
    "#     return s"
   ]
  },
  {
   "cell_type": "code",
   "execution_count": 43,
   "metadata": {},
   "outputs": [],
   "source": [
    "dataRange = range(20)"
   ]
  },
  {
   "cell_type": "markdown",
   "metadata": {},
   "source": [
    "Use the pool_process function to apply my_func to the data in dataRange.  \n",
    "This task is so light it requires very little processing time. "
   ]
  },
  {
   "cell_type": "code",
   "execution_count": 6,
   "metadata": {},
   "outputs": [
    {
     "name": "stdout",
     "output_type": "stream",
     "text": [
      "Results [0.0, 1.0, 1.4142135623730951, 1.7320508075688772, 2.0, 2.23606797749979, 2.449489742783178, 2.6457513110645907, 2.8284271247461903, 3.0, 3.1622776601683795, 3.3166247903554, 3.4641016151377544, 3.605551275463989, 3.7416573867739413, 3.872983346207417, 4.0, 4.123105625617661, 4.242640687119285, 4.358898943540674]\n",
      "Overall Time: 0\n"
     ]
    }
   ],
   "source": [
    "pool_process(my_func, dataRange, 2)"
   ]
  },
  {
   "cell_type": "markdown",
   "metadata": {},
   "source": [
    "## A naive function for checking primes "
   ]
  },
  {
   "cell_type": "code",
   "execution_count": 7,
   "metadata": {},
   "outputs": [],
   "source": [
    "from function import check_prime\n"
   ]
  },
  {
   "cell_type": "code",
   "execution_count": 8,
   "metadata": {},
   "outputs": [],
   "source": [
    "# def check_prime(num):\n",
    "#     t1 = time.time()\n",
    "#     res = False\n",
    "#     if num > 0:\n",
    "#         # check for factors\n",
    "#         for i in range(2,num):\n",
    "#             if (num % i) == 0:\n",
    "#                 print(num,\"is not a prime number\")\n",
    "#                 print(i,\"times\",num//i,\"is\",num)\n",
    "#                 print(\"Time:\", int(time.time()-t1))\n",
    "#                 break\n",
    "#         else:\n",
    "#             print(num,\"is a prime number\")\n",
    "#             print(\"Time:\", time.time()-t1) \n",
    "#             res = True\n",
    "#             # if input number is less than\n",
    "#             # or equal to 1, it is not prime\n",
    "#     return res\n"
   ]
  },
  {
   "cell_type": "code",
   "execution_count": 9,
   "metadata": {},
   "outputs": [
    {
     "name": "stdout",
     "output_type": "stream",
     "text": [
      "15488801 is a prime number\n",
      "Time: 1.8631513118743896\n"
     ]
    },
    {
     "data": {
      "text/plain": [
       "True"
      ]
     },
     "execution_count": 9,
     "metadata": {},
     "output_type": "execute_result"
    }
   ],
   "source": [
    "check_prime(15488801)"
   ]
  },
  {
   "cell_type": "code",
   "execution_count": 10,
   "metadata": {},
   "outputs": [
    {
     "name": "stdout",
     "output_type": "stream",
     "text": [
      "15488803 is not a prime number\n",
      "11 times 1408073 is 15488803\n",
      "Time: 0\n"
     ]
    },
    {
     "data": {
      "text/plain": [
       "False"
      ]
     },
     "execution_count": 10,
     "metadata": {},
     "output_type": "execute_result"
    }
   ],
   "source": [
    "check_prime(15488803)"
   ]
  },
  {
   "cell_type": "markdown",
   "metadata": {},
   "source": [
    "### Generating sets of work to be processed by the pool. The speedup will be quantified by using an increasing amount of cores:"
   ]
  },
  {
   "cell_type": "markdown",
   "metadata": {},
   "source": [
    "### With 2 prime numbers:"
   ]
  },
  {
   "cell_type": "code",
   "execution_count": 14,
   "metadata": {},
   "outputs": [
    {
     "name": "stdout",
     "output_type": "stream",
     "text": [
      "Results [True, True]\n",
      "Overall Time: 2\n"
     ]
    }
   ],
   "source": [
    "data = [12281671, 12281693]\n",
    "pool_process(check_prime, data, 1)"
   ]
  },
  {
   "cell_type": "code",
   "execution_count": 15,
   "metadata": {},
   "outputs": [
    {
     "name": "stdout",
     "output_type": "stream",
     "text": [
      "Results [True, True]\n",
      "Overall Time: 2\n"
     ]
    }
   ],
   "source": [
    "data = [12281671, 12281693]\n",
    "pool_process(check_prime, data, 2)"
   ]
  },
  {
   "cell_type": "code",
   "execution_count": 16,
   "metadata": {},
   "outputs": [
    {
     "name": "stdout",
     "output_type": "stream",
     "text": [
      "Results [True, True]\n",
      "Overall Time: 2\n"
     ]
    }
   ],
   "source": [
    "data = [12281671, 12281693]\n",
    "pool_process(check_prime, data, 3)"
   ]
  },
  {
   "cell_type": "code",
   "execution_count": 17,
   "metadata": {},
   "outputs": [
    {
     "name": "stdout",
     "output_type": "stream",
     "text": [
      "Results [True, True]\n",
      "Overall Time: 2\n"
     ]
    }
   ],
   "source": [
    "data = [12281671, 12281693]\n",
    "pool_process(check_prime, data, 4)"
   ]
  },
  {
   "cell_type": "markdown",
   "metadata": {},
   "source": [
    "### With 4 prime numbers"
   ]
  },
  {
   "cell_type": "code",
   "execution_count": 18,
   "metadata": {},
   "outputs": [
    {
     "name": "stdout",
     "output_type": "stream",
     "text": [
      "Results [True, True, True, True]\n",
      "Overall Time: 5\n"
     ]
    }
   ],
   "source": [
    "data = [12281671, 12281693, 12281707, 12281713]\n",
    "pool_process(check_prime, data, 1)"
   ]
  },
  {
   "cell_type": "code",
   "execution_count": 19,
   "metadata": {},
   "outputs": [
    {
     "name": "stdout",
     "output_type": "stream",
     "text": [
      "Results [True, True, True, True]\n",
      "Overall Time: 3\n"
     ]
    }
   ],
   "source": [
    "data = [12281671, 12281693, 12281707, 12281713]\n",
    "pool_process(check_prime, data, 2)"
   ]
  },
  {
   "cell_type": "code",
   "execution_count": 20,
   "metadata": {},
   "outputs": [
    {
     "name": "stdout",
     "output_type": "stream",
     "text": [
      "Results [True, True, True, True]\n",
      "Overall Time: 3\n"
     ]
    }
   ],
   "source": [
    "data = [12281671, 12281693, 12281707, 12281713]\n",
    "pool_process(check_prime, data, 3)"
   ]
  },
  {
   "cell_type": "code",
   "execution_count": 21,
   "metadata": {},
   "outputs": [
    {
     "name": "stdout",
     "output_type": "stream",
     "text": [
      "Results [True, True, True, True]\n",
      "Overall Time: 3\n"
     ]
    }
   ],
   "source": [
    "data = [12281671, 12281693, 12281707, 12281713]\n",
    "pool_process(check_prime, data, 4)"
   ]
  },
  {
   "cell_type": "markdown",
   "metadata": {},
   "source": [
    "### With 8 prime numbers:"
   ]
  },
  {
   "cell_type": "code",
   "execution_count": 22,
   "metadata": {},
   "outputs": [
    {
     "name": "stdout",
     "output_type": "stream",
     "text": [
      "Results [True, True, True, True, True, True, True, True]\n",
      "Overall Time: 11\n"
     ]
    }
   ],
   "source": [
    "data = [12281671,12281693,12281707,12281713,12281719,12281729,12281767,12281813]\n",
    "pool_process(check_prime, data, 1)"
   ]
  },
  {
   "cell_type": "code",
   "execution_count": 23,
   "metadata": {},
   "outputs": [
    {
     "name": "stdout",
     "output_type": "stream",
     "text": [
      "Results [True, True, True, True, True, True, True, True]\n",
      "Overall Time: 7\n"
     ]
    }
   ],
   "source": [
    "data = [12281671,12281693,12281707,12281713,12281719,12281729,12281767,12281813]\n",
    "pool_process(check_prime, data, 2)"
   ]
  },
  {
   "cell_type": "code",
   "execution_count": 24,
   "metadata": {},
   "outputs": [
    {
     "name": "stdout",
     "output_type": "stream",
     "text": [
      "Results [True, True, True, True, True, True, True, True]\n",
      "Overall Time: 6\n"
     ]
    }
   ],
   "source": [
    "data = [12281671,12281693,12281707,12281713,12281719,12281729,12281767,12281813 ]\n",
    "pool_process(check_prime, data, 3)"
   ]
  },
  {
   "cell_type": "code",
   "execution_count": 25,
   "metadata": {},
   "outputs": [
    {
     "name": "stdout",
     "output_type": "stream",
     "text": [
      "Results [True, True, True, True, True, True, True, True]\n",
      "Overall Time: 6\n"
     ]
    }
   ],
   "source": [
    "data = [12281671,12281693,12281707,12281713,12281719,12281729,12281767,12281813 ]\n",
    "pool_process(check_prime, data, 4)"
   ]
  },
  {
   "cell_type": "markdown",
   "metadata": {},
   "source": [
    "### With 16 prime numbers:"
   ]
  },
  {
   "cell_type": "code",
   "execution_count": 26,
   "metadata": {},
   "outputs": [
    {
     "name": "stdout",
     "output_type": "stream",
     "text": [
      "Results [True, True, True, True, True, True, True, True, True, True, True, True, True, True, True, True]\n",
      "Overall Time: 24\n"
     ]
    }
   ],
   "source": [
    "data = [12281671, 12281693, 12281707, 12281713, 12281719, 12281729, 12281767, 12281813, 12281827, 12281831, 12281881, 12281909, 12281947, 12281963, 12281981, 12281987]\n",
    "pool_process(check_prime, data, 1)"
   ]
  },
  {
   "cell_type": "code",
   "execution_count": 27,
   "metadata": {},
   "outputs": [
    {
     "name": "stdout",
     "output_type": "stream",
     "text": [
      "Results [True, True, True, True, True, True, True, True, True, True, True, True, True, True, True, True]\n",
      "Overall Time: 15\n"
     ]
    }
   ],
   "source": [
    "data = [12281671, 12281693, 12281707, 12281713, 12281719, 12281729, 12281767, 12281813, 12281827, 12281831, 12281881, 12281909, 12281947, 12281963, 12281981, 12281987]\n",
    "pool_process(check_prime, data, 2)"
   ]
  },
  {
   "cell_type": "code",
   "execution_count": 28,
   "metadata": {},
   "outputs": [
    {
     "name": "stdout",
     "output_type": "stream",
     "text": [
      "Results [True, True, True, True, True, True, True, True, True, True, True, True, True, True, True, True]\n",
      "Overall Time: 13\n"
     ]
    }
   ],
   "source": [
    "data = [12281671, 12281693, 12281707, 12281713, 12281719, 12281729, 12281767, 12281813, 12281827, 12281831, 12281881, 12281909, 12281947, 12281963, 12281981, 12281987]\n",
    "pool_process(check_prime, data, 3)"
   ]
  },
  {
   "cell_type": "code",
   "execution_count": 29,
   "metadata": {},
   "outputs": [
    {
     "name": "stdout",
     "output_type": "stream",
     "text": [
      "Results [True, True, True, True, True, True, True, True, True, True, True, True, True, True, True, True]\n",
      "Overall Time: 13\n"
     ]
    }
   ],
   "source": [
    "data = [12281671, 12281693, 12281707, 12281713, 12281719, 12281729, 12281767, 12281813, 12281827, 12281831, 12281881, 12281909, 12281947, 12281963, 12281981, 12281987]\n",
    "pool_process(check_prime, data, 4)"
   ]
  },
  {
   "cell_type": "markdown",
   "metadata": {},
   "source": [
    "### Plotting result"
   ]
  },
  {
   "cell_type": "code",
   "execution_count": 52,
   "metadata": {},
   "outputs": [
    {
     "data": {
      "image/png": "[encoded data removed]",
      "text/plain": [
       "<Figure size 432x288 with 1 Axes>"
      ]
     },
     "metadata": {
      "needs_background": "light"
     },
     "output_type": "display_data"
    }
   ],
   "source": [
    "number_cores= [1,2,3,4]\n",
    "two_prime_result = [2,2,2,2]\n",
    "four_prime_result = [5,3,3,3]\n",
    "eight_prime_result = [11,7,6,6]\n",
    "sixteen_prime_result = [24,15,13,13]\n",
    "\n",
    "\n",
    "plt.xlabel('Pool Size')\n",
    "plt.ylabel('Time Taken')\n",
    "plt.plot(number_cores,two_prime_result, label ='2 Prime Numbers')\n",
    "plt.plot(number_cores, four_prime_result, label ='4 Prime Numbers')\n",
    "plt.plot(number_cores, eight_prime_result, label ='8 Prime Numbers')\n",
    "plt.plot(number_cores, sixteen_prime_result, label ='16 Prime Numbers')\n",
    "\n",
    "plt.grid()\n",
    "plt.legend()\n",
    "plt.show()"
   ]
  },
  {
   "cell_type": "code",
   "execution_count": null,
   "metadata": {},
   "outputs": [],
   "source": []
  }
 ],
 "metadata": {
  "kernelspec": {
   "display_name": "Python 3",
   "language": "python",
   "name": "python3"
  },
  "language_info": {
   "codemirror_mode": {
    "name": "ipython",
    "version": 3
   },
   "file_extension": ".py",
   "mimetype": "text/x-python",
   "name": "python",
   "nbconvert_exporter": "python",
   "pygments_lexer": "ipython3",
   "version": "3.8.8"
  }
 },
 "nbformat": 4,
 "nbformat_minor": 1
}
